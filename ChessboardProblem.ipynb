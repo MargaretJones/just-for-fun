{
 "cells": [
  {
   "cell_type": "markdown",
   "metadata": {},
   "source": [
    "# The fable of the king and the rice\n",
    "## A cautionary tale about exponential sequences \n",
    "\n",
    "There's an old story about an inventor who did a great service for a king. (In some versions of the story, he has invented the game of chess!) When the king asks what he would like for a reward, the inventor grabs a chessboard and places a single grain of rice on a corner square. He explains that he wants to be paid in rice over the next couple of months. On the first day, the king will pay a single grain of rice. He adds two grains to the next square and explains: on the second day, the king will pay two grains of rice. On the third, four grains. The amount to be paid will double every day. In almost all versions of the story, the king takes him up on this offer. But how long until the king realizes he's made a big mistake? \n",
    "\n",
    "The calculations involved are simple in a brute-force kind of way, so I thought this story would be a good inspiration for my first Python project. This function calculates how much rice gets added on each day and keeps a running total of the number of grains and the weight of the rice. \n",
    "\n",
    "## 1. Ask the user which units they prefer for the weight calculations "
   ]
  },
  {
   "cell_type": "code",
   "execution_count": null,
   "metadata": {
    "collapsed": true
   },
   "outputs": [],
   "source": [
    "\n",
    "def unitselection():\n",
    "    print \"Would you prefer to weigh your rice in imperial or metric units?\"\n",
    "    print \"1.Imperial please - this is 'Murica.\"\n",
    "    print \"2. Metric units - base 10 is bae.\"\n",
    "    print \"3. Actually, I don't care about the weight calculations.\"\n",
    "\n",
    "    global units\n",
    "    units = raw_input(\">>> \")\n",
    "    if units == \"1\":\n",
    "        print \"Alright, Imperial it is!\"\n",
    "    elif units == \"2\":\n",
    "        print \"Alright, Metric it is!\"\n",
    "    elif units == \"3\":\n",
    "        print \"Then why did I bother writing this functionality?\"\n",
    "    else:\n",
    "        print \"Um, are you sure? Try just entering the number of your selection with no period.\"\n",
    "        unitselection()"
   ]
  },
  {
   "cell_type": "markdown",
   "metadata": {},
   "source": [
    "This way, the user can decide which units they are most interested in. As we'll see later, if the user chooses imperial units, weights will be given in ounces, pounds, or tons depending on what makes the most sense for that amount of rice. For metric units, weights will be in grams, kilograms, or metric tonnes. "
   ]
  },
  {
   "cell_type": "markdown",
   "metadata": {},
   "source": [
    "## 2. Set up the problem and define the weight of a single grain of rice"
   ]
  },
  {
   "cell_type": "code",
   "execution_count": null,
   "metadata": {
    "collapsed": true
   },
   "outputs": [],
   "source": [
    "def kingsboard():\n",
    "\n",
    "    new = 1\n",
    "    total = 1\n",
    "    number_squares = 64\n",
    "    t = 2\n",
    "    old = 0\n",
    "    grain_mass_g = 0.015625 #mass in grams\n",
    "    grain_mass_oz = 0.00055187638 #mass in ounces\n",
    "\n",
    "    unitselection()\n",
    "    \n",
    "    print \"Day 1: There is 1 grain of rice on square 1.\" \n",
    "    print \"There is 1 total grain of rice.\""
   ]
  },
  {
   "cell_type": "markdown",
   "metadata": {},
   "source": [
    "I kind of had to guess on how much a grain of rice weighs. I used the weights given [here](https://www.reference.com/food/much-single-grain-rice-weigh-c39a20469d3fe660).  "
   ]
  },
  {
   "cell_type": "markdown",
   "metadata": {},
   "source": [
    "## 3. Do the calculations for each of the 64 squares on a chessboard\n",
    "### Calculate the number of grains "
   ]
  },
  {
   "cell_type": "code",
   "execution_count": null,
   "metadata": {
    "collapsed": true
   },
   "outputs": [],
   "source": [
    " while( t<=number_squares):\n",
    "        #print \"It is day\",t, \".\"\n",
    "        old = new\n",
    "        new=new*2\n",
    "        print \"Day\",t,\":\",new, \"new grains of rice are added to the board.\" \n",
    "        total = total+new\n",
    "        print \"There are\",total,\"total grains of rice on the board.\"\n",
    "        t = t+1"
   ]
  },
  {
   "cell_type": "markdown",
   "metadata": {},
   "source": [
    "### Calculate the weight of all those grains\n",
    "\n",
    "Here, I use those masses that I defined earlier. One thing you'll notice is that the program cuts off mass estimates so that there aren't like a zillion decimal places. It cuts it off at two decimal places for the smallest units and at the integer for the larger units. This truncation only happens in the printing though -- all of the calculations are done on the full numeric value. (Which is good because with such huge numbers a difference in rounding could make a big difference in final output). "
   ]
  },
  {
   "cell_type": "code",
   "execution_count": null,
   "metadata": {
    "collapsed": true
   },
   "outputs": [],
   "source": [
    "       total_mass_oz = grain_mass_oz*total\n",
    "        total_mass_g = grain_mass_g*total\n",
    "        \n",
    "        if units == '1':\n",
    "            if total_mass_oz <= 16:\n",
    "                print \"That amount of rice would weigh about\", '%.2f' % total_mass_oz,\"ounces.\"\n",
    "            if (total_mass_oz > 16 and total_mass_oz <32000):\n",
    "                total_mass_lb = total_mass_oz/16\n",
    "                print \"That amount of rice would weigh about\",'%.0f' % total_mass_lb,\"pounds.\"\n",
    "            if total_mass_oz >= 32000:\n",
    "                total_mass_ton = total_mass_oz/32000\n",
    "                print \"That amount of rice would weigh about\",'%.0f' % total_mass_ton,\"tons.\"\n",
    "        elif units == '2':\n",
    "            if total_mass_g <= 1000:\n",
    "                print \"That amount of rice would weigh about\", '%.2f' % total_mass_g,\"grams.\"\n",
    "            if (total_mass_g > 1000 and total_mass_g <1000000):\n",
    "                total_mass_kg = total_mass_g/1000\n",
    "                print \"That amount of rice would weigh about\",'%.0f' % total_mass_kg,\"kilograms.\"\n",
    "            if total_mass_g >= 1000000:\n",
    "                total_mass_mton = total_mass_g/1000000\n",
    "                print \"That amount of rice would weigh about\",'%.0f' % total_mass_mton,\"metric tonnes.\"\n",
    "    print \"WOW! That's a lot of rice!\"\n",
    "    \n",
    "kingsboard()"
   ]
  },
  {
   "cell_type": "markdown",
   "metadata": {},
   "source": [
    "## So how much rice is that?\n",
    "(Spoiler alert!) If you run the program, you'll find it calculates the mass of the total volume of rice to be about 3.2 * 10^11 tons. Although estimates seem to vary widely, the mass of the Titanic is about [46,000 tons](http://www.titanic-titanic.com/titanic_statistics.shtml), so by day 64 our inventor would have an amount of rice weighing as much as almost 7 million Titanics. That's a LOT of rice!\n",
    "\n",
    "One next goal for me with this little project is to add a way to save the results in a matrix instead of just printing them to the console. That would be a useful step for me to figure out how to play with and manipulate data in Python. And of course, let me know if you have any advice or catch any errors! "
   ]
  }
 ],
 "metadata": {
  "kernelspec": {
   "display_name": "Python 2",
   "language": "python",
   "name": "python2"
  },
  "language_info": {
   "codemirror_mode": {
    "name": "ipython",
    "version": 2
   },
   "file_extension": ".py",
   "mimetype": "text/x-python",
   "name": "python",
   "nbconvert_exporter": "python",
   "pygments_lexer": "ipython2",
   "version": "2.7.11"
  }
 },
 "nbformat": 4,
 "nbformat_minor": 0
}
